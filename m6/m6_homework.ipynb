{
 "cells": [
  {
   "cell_type": "markdown",
   "metadata": {},
   "source": [
    "**Q1: How does the if statement that we use for this looks like?**\n",
    "\n",
    "```if __name__ == \"__main__\": ```\n"
   ]
  },
  {
   "cell_type": "markdown",
   "metadata": {},
   "source": [
    "**Q2: What should be the other file?**  \n",
    "\n",
    "```__init__.py```"
   ]
  },
  {
   "cell_type": "markdown",
   "metadata": {},
   "source": [
    "**Q3: How many rows should be there in the expected dataframe?**\n",
    "\n",
    "```2 rows```"
   ]
  },
  {
   "cell_type": "markdown",
   "metadata": {},
   "source": [
    "**Q4: What option do we need to use for such purposes?**\n",
    "\n",
    "```--endpoint-url```"
   ]
  },
  {
   "cell_type": "code",
   "execution_count": 1,
   "metadata": {
    "collapsed": true,
    "jupyter": {
     "outputs_hidden": true
    },
    "scrolled": true
   },
   "outputs": [
    {
     "name": "stdout",
     "output_type": "stream",
     "text": [
      "echo \"Bringing up the 'localstack'\"\n",
      "Bringing up the 'localstack'\n",
      "docker compose up -d\n",
      "\u001b[1A\u001b[1B\u001b[0G\u001b[?25l[+] Running 1/0\n",
      " \u001b[32m✔\u001b[0m Network m6_default         \u001b[32mCreated\u001b[0m                                      \u001b[34m0.0s \u001b[0m\n",
      " \u001b[33m⠋\u001b[0m Container m6-localstack-1  Creating                                     \u001b[34m0.1s \u001b[0m\n",
      "\u001b[1A\u001b[1A\u001b[1A\u001b[0G\u001b[?25l[+] Running 1/2\n",
      " \u001b[32m✔\u001b[0m Network m6_default         \u001b[32mCreated\u001b[0m                                      \u001b[34m0.0s \u001b[0m\n",
      " \u001b[33m⠙\u001b[0m Container m6-localstack-1  Starting                                     \u001b[34m0.2s \u001b[0m\n",
      "\u001b[1A\u001b[1A\u001b[1A\u001b[0G\u001b[?25l\u001b[34m[+] Running 2/2\u001b[0m\n",
      " \u001b[32m✔\u001b[0m Network m6_default         \u001b[32mCreated\u001b[0m                                      \u001b[34m0.0s \u001b[0m\n",
      " \u001b[32m✔\u001b[0m Container m6-localstack-1  \u001b[32mStarted\u001b[0m                                      \u001b[34m0.2s \u001b[0m\n",
      "\u001b[?25hsleep 5\n",
      "echo \"Creating the S3 bucket\"\n",
      "Creating the S3 bucket\n",
      "aws s3 mb s3://nyc-duration --endpoint-url http://localhost:4566\n",
      "make_bucket: nyc-duration\n",
      "echo\n",
      "\n"
     ]
    }
   ],
   "source": [
    "# initialize the localstack with s3 service and create the test s3 bucket\n",
    "! make setup s3"
   ]
  },
  {
   "cell_type": "code",
   "execution_count": 2,
   "metadata": {},
   "outputs": [
    {
     "name": "stdout",
     "output_type": "stream",
     "text": [
      "2025-02-03 07:53:47 nyc-duration\n"
     ]
    }
   ],
   "source": [
    "! aws s3 ls --endpoint-url http://localhost:4566 --recursive"
   ]
  },
  {
   "cell_type": "markdown",
   "metadata": {},
   "source": [
    "**Q5: What's the size of the file?**"
   ]
  },
  {
   "cell_type": "code",
   "execution_count": 3,
   "metadata": {
    "scrolled": true
   },
   "outputs": [
    {
     "name": "stdout",
     "output_type": "stream",
     "text": [
      "TEST_BUCKET_NAME=nyc-duration\n",
      "INPUT_FILE_PATTERN=s3://nyc-duration/in/2023-01.parquet\n",
      "OUTPUT_FILE_PATTERN=s3://nyc-duration/out/2023-01.parquet\n",
      "S3_ENDPOINT_URL=http://localhost:4566\n",
      "3620\n"
     ]
    }
   ],
   "source": [
    "# create a test dataframe and upload it to s3\n",
    "! python integration_test.py 2023 1\n",
    "! aws s3 ls s3://nyc-duration --endpoint-url http://localhost:4566 --recursive | awk '{print $3}'"
   ]
  },
  {
   "cell_type": "markdown",
   "metadata": {},
   "source": [
    "**Q6: What's the sum of predicted durations for the test dataframe?**"
   ]
  },
  {
   "cell_type": "code",
   "execution_count": 4,
   "metadata": {},
   "outputs": [
    {
     "name": "stdout",
     "output_type": "stream",
     "text": [
      "predicted mean duration: 18.138625226015364\n"
     ]
    }
   ],
   "source": [
    "# run the batch.py script to upload the predictions to s3\n",
    "! python batch.py 2023 1"
   ]
  },
  {
   "cell_type": "code",
   "execution_count": 5,
   "metadata": {},
   "outputs": [
    {
     "name": "stdout",
     "output_type": "stream",
     "text": [
      "36.28\n"
     ]
    }
   ],
   "source": [
    "# calculate the sum of predictions uploaded in s3\n",
    "! python get_results.py 2023 1"
   ]
  },
  {
   "cell_type": "code",
   "execution_count": 6,
   "metadata": {
    "collapsed": true,
    "jupyter": {
     "outputs_hidden": true
    }
   },
   "outputs": [
    {
     "name": "stdout",
     "output_type": "stream",
     "text": [
      "echo \"Cleaning up ...\"\n",
      "Cleaning up ...\n",
      "docker compose down\n",
      "\u001b[1A\u001b[1B\u001b[0G\u001b[?25l[+] Running 0/0\n",
      " \u001b[33m⠋\u001b[0m Container m6-localstack-1  Stopping                                     \u001b[34m0.1s \u001b[0m\n",
      "\u001b[1A\u001b[1A\u001b[0G\u001b[?25l[+] Running 0/1\n",
      " \u001b[33m⠙\u001b[0m Container m6-localstack-1  Stopping                                     \u001b[34m0.2s \u001b[0m\n",
      "\u001b[1A\u001b[1A\u001b[0G\u001b[?25l[+] Running 0/1\n",
      " \u001b[33m⠹\u001b[0m Container m6-localstack-1  Stopping                                     \u001b[34m0.3s \u001b[0m\n",
      "\u001b[1A\u001b[1A\u001b[0G\u001b[?25l[+] Running 0/1\n",
      " \u001b[33m⠸\u001b[0m Container m6-localstack-1  Stopping                                     \u001b[34m0.4s \u001b[0m\n",
      "\u001b[1A\u001b[1A\u001b[0G\u001b[?25l[+] Running 0/1\n",
      " \u001b[33m⠼\u001b[0m Container m6-localstack-1  Stopping                                     \u001b[34m0.5s \u001b[0m\n",
      "\u001b[1A\u001b[1A\u001b[0G\u001b[?25l[+] Running 0/1\n",
      " \u001b[33m⠴\u001b[0m Container m6-localstack-1  Stopping                                     \u001b[34m0.6s \u001b[0m\n",
      "\u001b[1A\u001b[1A\u001b[0G\u001b[?25l[+] Running 0/1\n",
      " \u001b[33m⠦\u001b[0m Container m6-localstack-1  Stopping                                     \u001b[34m0.7s \u001b[0m\n",
      "\u001b[1A\u001b[1A\u001b[0G\u001b[?25l[+] Running 0/1\n",
      " \u001b[33m⠧\u001b[0m Container m6-localstack-1  Stopping                                     \u001b[34m0.8s \u001b[0m\n",
      "\u001b[1A\u001b[1A\u001b[0G\u001b[?25l[+] Running 0/1\n",
      " \u001b[33m⠇\u001b[0m Container m6-localstack-1  Stopping                                     \u001b[34m0.9s \u001b[0m\n",
      "\u001b[1A\u001b[1A\u001b[0G\u001b[?25l[+] Running 0/1\n",
      " \u001b[33m⠏\u001b[0m Container m6-localstack-1  Stopping                                     \u001b[34m1.0s \u001b[0m\n",
      "\u001b[1A\u001b[1A\u001b[0G\u001b[?25l[+] Running 0/1\n",
      " \u001b[33m⠋\u001b[0m Container m6-localstack-1  Stopping                                     \u001b[34m1.1s \u001b[0m\n",
      "\u001b[1A\u001b[1A\u001b[0G\u001b[?25l[+] Running 0/1\n",
      " \u001b[33m⠙\u001b[0m Container m6-localstack-1  Stopping                                     \u001b[34m1.2s \u001b[0m\n",
      "\u001b[1A\u001b[1A\u001b[0G\u001b[?25l[+] Running 0/1\n",
      " \u001b[33m⠹\u001b[0m Container m6-localstack-1  Stopping                                     \u001b[34m1.3s \u001b[0m\n",
      "\u001b[1A\u001b[1A\u001b[0G\u001b[?25l[+] Running 0/1\n",
      " \u001b[33m⠸\u001b[0m Container m6-localstack-1  Stopping                                     \u001b[34m1.4s \u001b[0m\n",
      "\u001b[1A\u001b[1A\u001b[0G\u001b[?25l[+] Running 0/1\n",
      " \u001b[33m⠼\u001b[0m Container m6-localstack-1  Stopping                                     \u001b[34m1.5s \u001b[0m\n",
      "\u001b[1A\u001b[1A\u001b[0G\u001b[?25l[+] Running 0/1\n",
      " \u001b[33m⠴\u001b[0m Container m6-localstack-1  Stopping                                     \u001b[34m1.6s \u001b[0m\n",
      "\u001b[1A\u001b[1A\u001b[0G\u001b[?25l[+] Running 0/1\n",
      " \u001b[33m⠦\u001b[0m Container m6-localstack-1  Stopping                                     \u001b[34m1.7s \u001b[0m\n",
      "\u001b[1A\u001b[1A\u001b[0G\u001b[?25l[+] Running 0/1\n",
      " \u001b[33m⠧\u001b[0m Container m6-localstack-1  Stopping                                     \u001b[34m1.8s \u001b[0m\n",
      "\u001b[1A\u001b[1A\u001b[0G\u001b[?25l[+] Running 0/1\n",
      " \u001b[33m⠇\u001b[0m Container m6-localstack-1  Stopping                                     \u001b[34m1.9s \u001b[0m\n",
      "\u001b[1A\u001b[1A\u001b[0G\u001b[?25l[+] Running 0/1\n",
      " \u001b[33m⠏\u001b[0m Container m6-localstack-1  Stopping                                     \u001b[34m2.0s \u001b[0m\n",
      "\u001b[1A\u001b[1A\u001b[0G\u001b[?25l[+] Running 0/1\n",
      " \u001b[33m⠋\u001b[0m Container m6-localstack-1  Stopping                                     \u001b[34m2.1s \u001b[0m\n",
      "\u001b[1A\u001b[1A\u001b[0G\u001b[?25l\u001b[34m[+] Running 1/1\u001b[0m\n",
      " \u001b[32m✔\u001b[0m Container m6-localstack-1  \u001b[32mRemoved\u001b[0m                                      \u001b[34m2.1s \u001b[0m\n",
      " \u001b[33m⠋\u001b[0m Network m6_default         Removing                                     \u001b[34m0.0s \u001b[0m\n",
      "\u001b[1A\u001b[1A\u001b[1A\u001b[0G\u001b[?25l\u001b[34m[+] Running 2/2\u001b[0m\n",
      " \u001b[32m✔\u001b[0m Container m6-localstack-1  \u001b[32mRemoved\u001b[0m                                      \u001b[34m2.1s \u001b[0m\n",
      " \u001b[32m✔\u001b[0m Network m6_default         \u001b[32mRemoved\u001b[0m                                      \u001b[34m0.1s \u001b[0m\n",
      "\u001b[?25hecho\n",
      "\n"
     ]
    }
   ],
   "source": [
    "# cleanup\n",
    "! make cleanup"
   ]
  },
  {
   "cell_type": "code",
   "execution_count": null,
   "metadata": {},
   "outputs": [],
   "source": []
  }
 ],
 "metadata": {
  "kernelspec": {
   "display_name": "Python 3 (ipykernel)",
   "language": "python",
   "name": "python3"
  },
  "language_info": {
   "codemirror_mode": {
    "name": "ipython",
    "version": 3
   },
   "file_extension": ".py",
   "mimetype": "text/x-python",
   "name": "python",
   "nbconvert_exporter": "python",
   "pygments_lexer": "ipython3",
   "version": "3.10.16"
  }
 },
 "nbformat": 4,
 "nbformat_minor": 4
}
