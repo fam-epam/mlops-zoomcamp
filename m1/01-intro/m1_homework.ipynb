{
 "cells": [
  {
   "cell_type": "code",
   "execution_count": 1,
   "id": "b2bd82d7",
   "metadata": {},
   "outputs": [
    {
     "name": "stdout",
     "output_type": "stream",
     "text": [
      "Python 3.12.3\n"
     ]
    }
   ],
   "source": [
    "!python3 -V"
   ]
  },
  {
   "cell_type": "code",
   "execution_count": 2,
   "id": "41062d8a",
   "metadata": {
    "jupyter": {
     "source_hidden": true
    }
   },
   "outputs": [],
   "source": [
    "from typing import Callable\n",
    "from typing_extensions import List\n",
    "import pandas as pd\n",
    "import numpy\n",
    "from sklearn.feature_extraction import DictVectorizer\n",
    "from sklearn.linear_model import LinearRegression\n",
    "from sklearn.metrics import root_mean_squared_error"
   ]
  },
  {
   "cell_type": "code",
   "execution_count": 3,
   "id": "6986c85f-f732-4e27-9840-5855becefe73",
   "metadata": {
    "jupyter": {
     "source_hidden": true
    }
   },
   "outputs": [],
   "source": [
    "# Functions\n",
    "def clean_data(df: pd.DataFrame) -> pd.DataFrame:\n",
    "    return df[(df.duration >= 1) & (df.duration <= 60)].copy()\n",
    "\n",
    "def prepare_dataframe(file: str, cleanup_function: Callable = None) -> List[any]:\n",
    "    \n",
    "    df = pd.read_parquet(file)\n",
    "    \n",
    "    df_number_columns = len(df.columns)\n",
    "    \n",
    "    df['duration'] = df.tpep_dropoff_datetime - df.tpep_pickup_datetime\n",
    "    df.duration = df.duration.apply(lambda td: td.total_seconds() / 60)\n",
    "    \n",
    "    trips_duration_std = df.duration.std()\n",
    "    \n",
    "    size_with_outliers = len(df)\n",
    "\n",
    "    if cleanup_function: \n",
    "        df = cleanup_function(df)\n",
    "    \n",
    "    size_without_outliers = len(df)\n",
    "    \n",
    "    return [df, df_number_columns, trips_duration_std, size_with_outliers, size_without_outliers]\n",
    "\n",
    "def vectorize(df: pd.DataFrame, dv: DictVectorizer, fit: bool) -> List[any]:\n",
    "    categorical = ['PULocationID', 'DOLocationID']\n",
    "    df[categorical] = df[categorical].astype(str)\n",
    "    \n",
    "    data_dicts = df[categorical].to_dict(orient='records')\n",
    "        \n",
    "    if fit:\n",
    "        x_data = dv.fit_transform(data_dicts)\n",
    "    else:\n",
    "        x_data = dv.transform(data_dicts)\n",
    "    \n",
    "    target = 'duration'\n",
    "    y_data = df[target].values\n",
    "\n",
    "    return [x_data, y_data]\n",
    "\n",
    "def train_model(x_data: DictVectorizer, y_data: numpy.ndarray, model: any, fit: bool) -> float:\n",
    "    \n",
    "    if fit:\n",
    "        model.fit(x_data, y_data)\n",
    "    \n",
    "    y_pred = model.predict(x_data)\n",
    "    \n",
    "    rmse = root_mean_squared_error(y_data, y_pred)\n",
    "\n",
    "    return rmse"
   ]
  },
  {
   "cell_type": "code",
   "execution_count": 4,
   "id": "8e013caf",
   "metadata": {},
   "outputs": [
    {
     "name": "stdout",
     "output_type": "stream",
     "text": [
      "Q1: The January 2023 file has 19 columns.\n",
      "Q2: Standard deviation for the 'duration' column = 42.59435124195458\n",
      "Q3: The percentage left after dropping the outliers in 'duration' is 98%\n"
     ]
    }
   ],
   "source": [
    "# Load the January data\n",
    "df_jan, df_number_columns, trips_duration_std, \\\n",
    "size_with_outliers, size_without_outliers = prepare_dataframe(\n",
    "    'https://d37ci6vzurychx.cloudfront.net/trip-data/yellow_tripdata_2023-01.parquet', \n",
    "    clean_data\n",
    ")\n",
    "\n",
    "# Q1 - the number of columns\n",
    "print(f\"Q1: The January 2023 file has {df_number_columns} columns.\")\n",
    "\n",
    "# Q2: the standard deviation of the trips duration in January?\n",
    "print(f\"Q2: Standard deviation for the 'duration' column = {trips_duration_std}\")\n",
    "\n",
    "# Q3: size before duration \n",
    "print(f\"Q3: The percentage left after dropping the outliers in 'duration' is {(size_without_outliers/size_with_outliers)*100:.0f}%\")\n",
    "\n",
    "dv = DictVectorizer()\n",
    "lr = LinearRegression()\n"
   ]
  },
  {
   "cell_type": "code",
   "execution_count": 5,
   "id": "116ff0cc",
   "metadata": {},
   "outputs": [
    {
     "name": "stdout",
     "output_type": "stream",
     "text": [
      "Q4: The dimensionality of the matric = 515\n",
      "Q5: What's the RMSE on train? (Jan) = 7.649262236295703\n"
     ]
    }
   ],
   "source": [
    "# Training data\n",
    "x_data, y_data = vectorize(df_jan, dv, fit=True)\n",
    "rmse = train_model(x_data, y_data, lr, fit=True)\n",
    "\n",
    "# Q4 - What's the dimensionality of this matrix (number of columns)?\n",
    "matrix_dimension = x_data.shape[1]\n",
    "print(f\"Q4: The dimensionality of the matric = {matrix_dimension}\")\n",
    "\n",
    "# Q5 - What's the RMSE on train \n",
    "print(f\"Q5: What's the RMSE on train? (Jan) = {rmse}\")"
   ]
  },
  {
   "cell_type": "code",
   "execution_count": 6,
   "id": "6c0b9a69-f446-453c-a2b1-09d450c0bd6b",
   "metadata": {},
   "outputs": [],
   "source": [
    "# Load the file for February\n",
    "df_feb, _, _, _, _ = prepare_dataframe(\n",
    "    'https://d37ci6vzurychx.cloudfront.net/trip-data/yellow_tripdata_2023-02.parquet', \n",
    "    clean_data\n",
    ")"
   ]
  },
  {
   "cell_type": "code",
   "execution_count": 7,
   "id": "47b0eb9b",
   "metadata": {},
   "outputs": [
    {
     "name": "stdout",
     "output_type": "stream",
     "text": [
      "Q6: What's the RMSE on eval? (Feb) = 7.811812822882009\n"
     ]
    }
   ],
   "source": [
    "# Evaluation data\n",
    "x_data, y_data = vectorize(df_feb, dv, fit=False)\n",
    "rmse = train_model(x_data, y_data, lr, fit=False)\n",
    "\n",
    "# Q6 - What's the RMSE on eval for February 2023?\n",
    "print(f\"Q6: What's the RMSE on eval? (Feb) = {rmse}\")\n"
   ]
  }
 ],
 "metadata": {
  "kernelspec": {
   "display_name": "venv",
   "language": "python",
   "name": "python3"
  },
  "language_info": {
   "codemirror_mode": {
    "name": "ipython",
    "version": 3
   },
   "file_extension": ".py",
   "mimetype": "text/x-python",
   "name": "python",
   "nbconvert_exporter": "python",
   "pygments_lexer": "ipython3",
   "version": "3.12.3"
  }
 },
 "nbformat": 4,
 "nbformat_minor": 5
}
