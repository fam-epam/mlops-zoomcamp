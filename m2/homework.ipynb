{
 "cells": [
  {
   "cell_type": "markdown",
   "metadata": {},
   "source": [
    "**Q1. What's the MLFlow version that you have?**"
   ]
  },
  {
   "cell_type": "code",
   "execution_count": 1,
   "metadata": {},
   "outputs": [
    {
     "name": "stdout",
     "output_type": "stream",
     "text": [
      "mlflow, version 2.19.0\n"
     ]
    }
   ],
   "source": [
    "! mlflow --version"
   ]
  },
  {
   "cell_type": "markdown",
   "metadata": {},
   "source": [
    "**Q2. How many files were saved to OUTPUT_FOLDER?**"
   ]
  },
  {
   "cell_type": "code",
   "execution_count": 2,
   "metadata": {},
   "outputs": [
    {
     "name": "stdout",
     "output_type": "stream",
     "text": [
      "output_files=4\n"
     ]
    }
   ],
   "source": [
    "! python preprocess_data.py --raw_data_path data --dest_path ./output\n",
    "! files_number=$(ls output | wc -l); echo \"output_files=$files_number\""
   ]
  },
  {
   "cell_type": "markdown",
   "metadata": {},
   "source": [
    "**Q3. What is the value of the min_samples_split parameter**"
   ]
  },
  {
   "cell_type": "code",
   "execution_count": 3,
   "metadata": {
    "collapsed": true,
    "jupyter": {
     "outputs_hidden": true
    }
   },
   "outputs": [
    {
     "name": "stdout",
     "output_type": "stream",
     "text": [
      "2025/01/20 11:37:44 WARNING mlflow.utils.autologging_utils: MLflow sklearn autologging is known to be compatible with 0.24.1 <= scikit-learn <= 1.5.2, but the installed version is 1.6.1. If you encounter errors during autologging, try upgrading / downgrading scikit-learn to a compatible version, or try upgrading MLflow.\n",
      "2025/01/20 11:37:44 INFO mlflow.tracking.fluent: Autologging successfully enabled for sklearn.\n",
      "2025/01/20 11:37:45 WARNING mlflow.sklearn: Failed to log training dataset information to MLflow Tracking. Reason: 'numpy.ndarray' object has no attribute 'toarray'\n"
     ]
    }
   ],
   "source": [
    "! python train.py"
   ]
  },
  {
   "cell_type": "code",
   "execution_count": 4,
   "metadata": {
    "jupyter": {
     "source_hidden": true
    }
   },
   "outputs": [
    {
     "name": "stdout",
     "output_type": "stream",
     "text": [
      "min_samples_split=2\n"
     ]
    }
   ],
   "source": [
    "from mlflow.tracking import MlflowClient\n",
    "import mlflow\n",
    "\n",
    "EXPERIMENT_NAME = \"nyc-taxi-experiment\"\n",
    "MLFLOW_TRACKING_URI = \"sqlite:///mlflow.db\"\n",
    "\n",
    "mlflow.set_tracking_uri(MLFLOW_TRACKING_URI)\n",
    "mlflow.set_experiment(\"nyc-taxi-experiment\")\n",
    "\n",
    "client = MlflowClient(tracking_uri=MLFLOW_TRACKING_URI)\n",
    "\n",
    "experiment = client.get_experiment_by_name(EXPERIMENT_NAME)\n",
    "\n",
    "latest_run = client.search_runs(\n",
    "    experiment_ids=[experiment.experiment_id], order_by=[\"start_time desc\"]\n",
    "    )[0]\n",
    "\n",
    "print(f\"min_samples_split={latest_run.data.params[\"min_samples_split\"]}\")"
   ]
  },
  {
   "cell_type": "markdown",
   "metadata": {},
   "source": [
    "**Q4. In addition to backend-store-uri, what else do you need to pass to properly configure the server?  \n",
    "Answer:**\n",
    "\n",
    "I need to pass the parameter “--default-artifact-root” and its value. \n",
    "\n",
    "e.g.\n",
    "\n",
    "mlflow server --port 8080 --backend-store-uri sqlite:///mlflow.db  --default-artifact-root ./artifacts\n",
    "\n"
   ]
  },
  {
   "cell_type": "markdown",
   "metadata": {},
   "source": [
    "**Q5. What's the best validation RMSE that you got?**"
   ]
  },
  {
   "cell_type": "code",
   "execution_count": 5,
   "metadata": {
    "collapsed": true,
    "jupyter": {
     "outputs_hidden": true
    }
   },
   "outputs": [
    {
     "name": "stdout",
     "output_type": "stream",
     "text": [
      "🏃 View run redolent-bat-630 at: http://127.0.0.1:8080/#/experiments/2/runs/045228b0247d4f40936a59428eaa3b36\n",
      "\n",
      "🧪 View experiment at: http://127.0.0.1:8080/#/experiments/2                    \n",
      "\n",
      "🏃 View run nebulous-shrimp-669 at: http://127.0.0.1:8080/#/experiments/2/runs/1d035239f27e49d78146ec6327ce6470\n",
      "\n",
      "🧪 View experiment at: http://127.0.0.1:8080/#/experiments/2                    \n",
      "\n",
      "🏃 View run bustling-duck-275 at: http://127.0.0.1:8080/#/experiments/2/runs/f798b8d9335545429843eb34e6f1a712\n",
      "\n",
      "🧪 View experiment at: http://127.0.0.1:8080/#/experiments/2                    \n",
      "\n",
      "🏃 View run tasteful-wolf-351 at: http://127.0.0.1:8080/#/experiments/2/runs/4178da54a07b42b7ba1f1326911a98d2\n",
      "\n",
      "🧪 View experiment at: http://127.0.0.1:8080/#/experiments/2                    \n",
      "\n",
      "🏃 View run resilient-fawn-214 at: http://127.0.0.1:8080/#/experiments/2/runs/538bfe80e74d445d89dd8dfac4928f68\n",
      "\n",
      "🧪 View experiment at: http://127.0.0.1:8080/#/experiments/2                    \n",
      "\n",
      "🏃 View run gaudy-elk-245 at: http://127.0.0.1:8080/#/experiments/2/runs/5e2b51bd7b724b77b4b00ce0adbcb81e\n",
      "\n",
      "🧪 View experiment at: http://127.0.0.1:8080/#/experiments/2                    \n",
      "\n",
      "🏃 View run awesome-zebra-200 at: http://127.0.0.1:8080/#/experiments/2/runs/9e60a2322b0b4a45803a9c23cbce0dc8\n",
      "\n",
      "🧪 View experiment at: http://127.0.0.1:8080/#/experiments/2                    \n",
      "\n",
      "🏃 View run likeable-carp-13 at: http://127.0.0.1:8080/#/experiments/2/runs/7ef200112e5c4a50a223aeaa772f9b07\n",
      "\n",
      "🧪 View experiment at: http://127.0.0.1:8080/#/experiments/2                    \n",
      "\n",
      "🏃 View run unequaled-fowl-678 at: http://127.0.0.1:8080/#/experiments/2/runs/e89ea58f7469486cbc061944a589833c\n",
      "\n",
      "🧪 View experiment at: http://127.0.0.1:8080/#/experiments/2                    \n",
      "\n",
      "🏃 View run nosy-panda-229 at: http://127.0.0.1:8080/#/experiments/2/runs/f827baf0e1cb45b1859926f011db9708\n",
      "\n",
      "🧪 View experiment at: http://127.0.0.1:8080/#/experiments/2                    \n",
      "\n",
      "🏃 View run languid-mole-275 at: http://127.0.0.1:8080/#/experiments/2/runs/c838543564c146318d042bf69c650e54\n",
      "\n",
      "🧪 View experiment at: http://127.0.0.1:8080/#/experiments/2                    \n",
      "\n",
      "🏃 View run able-mouse-354 at: http://127.0.0.1:8080/#/experiments/2/runs/c5d3284a93394c4d9d4e1f6768aeb3ad\n",
      "\n",
      "🧪 View experiment at: http://127.0.0.1:8080/#/experiments/2                    \n",
      "\n",
      "🏃 View run rogue-shrimp-48 at: http://127.0.0.1:8080/#/experiments/2/runs/f3b1f8d62ad84cbfb95efe39871abbce\n",
      "\n",
      "🧪 View experiment at: http://127.0.0.1:8080/#/experiments/2                    \n",
      "\n",
      "🏃 View run casual-mule-105 at: http://127.0.0.1:8080/#/experiments/2/runs/2c01700c57834fefae960c8297ff6f5c\n",
      "\n",
      "🧪 View experiment at: http://127.0.0.1:8080/#/experiments/2                    \n",
      "\n",
      "🏃 View run delightful-bird-647 at: http://127.0.0.1:8080/#/experiments/2/runs/e500a5d4cd114a7d9157f089363425e6\n",
      "\n",
      "🧪 View experiment at: http://127.0.0.1:8080/#/experiments/2                    \n",
      "\n",
      "100%|██████████| 15/15 [00:51<00:00,  3.42s/trial, best loss: 5.335419588556921]\n"
     ]
    }
   ],
   "source": [
    "! python hpo.py"
   ]
  },
  {
   "cell_type": "code",
   "execution_count": 6,
   "metadata": {
    "jupyter": {
     "source_hidden": true
    }
   },
   "outputs": [
    {
     "name": "stdout",
     "output_type": "stream",
     "text": [
      "The best validation RMSE is 5.335\n"
     ]
    }
   ],
   "source": [
    "HPO_EXPERIMENT_NAME = \"random-forest-hyperopt\"\n",
    "\n",
    "experiment = client.get_experiment_by_name(HPO_EXPERIMENT_NAME)\n",
    "runs = client.search_runs(experiment_ids=[experiment.experiment_id])\n",
    "\n",
    "min_rmse = float('inf')\n",
    "\n",
    "for run in runs:\n",
    "    rmse = run.data.metrics.get(\"rmse\")\n",
    "    if rmse is not None and rmse < min_rmse:\n",
    "        min_rmse = rmse\n",
    "\n",
    "print(f\"The best validation RMSE is {min_rmse:.3f}\")"
   ]
  },
  {
   "cell_type": "markdown",
   "metadata": {},
   "source": [
    "**Q6. What is the test RMSE of the best model?**"
   ]
  },
  {
   "cell_type": "code",
   "execution_count": 7,
   "metadata": {
    "collapsed": true,
    "jupyter": {
     "outputs_hidden": true
    }
   },
   "outputs": [
    {
     "name": "stdout",
     "output_type": "stream",
     "text": [
      "2025/01/20 11:38:55 WARNING mlflow.utils.autologging_utils: MLflow sklearn autologging is known to be compatible with 0.24.1 <= scikit-learn <= 1.5.2, but the installed version is 1.6.1. If you encounter errors during autologging, try upgrading / downgrading scikit-learn to a compatible version, or try upgrading MLflow.\n",
      "2025/01/20 11:38:55 WARNING mlflow.sklearn: Failed to log training dataset information to MLflow Tracking. Reason: 'numpy.ndarray' object has no attribute 'toarray'\n",
      "🏃 View run magnificent-jay-290 at: http://127.0.0.1:8080/#/experiments/3/runs/e8c9071e824042398ebc15fcc8c11d09\n",
      "🧪 View experiment at: http://127.0.0.1:8080/#/experiments/3\n",
      "2025/01/20 11:39:02 WARNING mlflow.sklearn: Failed to log training dataset information to MLflow Tracking. Reason: 'numpy.ndarray' object has no attribute 'toarray'\n",
      "🏃 View run zealous-doe-295 at: http://127.0.0.1:8080/#/experiments/3/runs/04cdfe60e42a415aae6804a8ce78b232\n",
      "🧪 View experiment at: http://127.0.0.1:8080/#/experiments/3\n",
      "2025/01/20 11:39:09 WARNING mlflow.sklearn: Failed to log training dataset information to MLflow Tracking. Reason: 'numpy.ndarray' object has no attribute 'toarray'\n",
      "🏃 View run fortunate-horse-198 at: http://127.0.0.1:8080/#/experiments/3/runs/92ac850816ad40008acf0f602093e6d3\n",
      "🧪 View experiment at: http://127.0.0.1:8080/#/experiments/3\n",
      "2025/01/20 11:39:17 WARNING mlflow.sklearn: Failed to log training dataset information to MLflow Tracking. Reason: 'numpy.ndarray' object has no attribute 'toarray'\n",
      "🏃 View run secretive-wren-761 at: http://127.0.0.1:8080/#/experiments/3/runs/b68a99991ebf450db2f0f50dfc11d6e5\n",
      "🧪 View experiment at: http://127.0.0.1:8080/#/experiments/3\n",
      "2025/01/20 11:39:25 WARNING mlflow.sklearn: Failed to log training dataset information to MLflow Tracking. Reason: 'numpy.ndarray' object has no attribute 'toarray'\n",
      "🏃 View run judicious-shad-917 at: http://127.0.0.1:8080/#/experiments/3/runs/b0f7d1bb0db5466db4a5068f54159ab5\n",
      "🧪 View experiment at: http://127.0.0.1:8080/#/experiments/3\n",
      "Registered model 'nyc-taxi-regressor' already exists. Creating a new version of this model...\n",
      "2025/01/20 11:39:33 INFO mlflow.store.model_registry.abstract_store: Waiting up to 300 seconds for model version to finish creation. Model name: nyc-taxi-regressor, version 11\n",
      "Created version '11' of model 'nyc-taxi-regressor'.\n"
     ]
    }
   ],
   "source": [
    "! python register_model.py"
   ]
  },
  {
   "cell_type": "code",
   "execution_count": 8,
   "metadata": {
    "jupyter": {
     "source_hidden": true
    }
   },
   "outputs": [
    {
     "name": "stdout",
     "output_type": "stream",
     "text": [
      "The best test RMSE is 5.567\n"
     ]
    }
   ],
   "source": [
    "EXPERIMENT_NAME = \"random-forest-best-models\"\n",
    "\n",
    "experiment = client.get_experiment_by_name(EXPERIMENT_NAME)\n",
    "runs = client.search_runs(experiment_ids=[experiment.experiment_id])\n",
    "\n",
    "min_rmse = float('inf')\n",
    "\n",
    "for run in runs:\n",
    "    rmse = run.data.metrics.get(\"test_rmse\")\n",
    "    if rmse is not None and rmse < min_rmse:\n",
    "        min_rmse = rmse\n",
    "\n",
    "print(f\"The best test RMSE is {min_rmse:.3f}\")"
   ]
  }
 ],
 "metadata": {
  "kernelspec": {
   "display_name": "Python 3 (ipykernel)",
   "language": "python",
   "name": "python3"
  },
  "language_info": {
   "codemirror_mode": {
    "name": "ipython",
    "version": 3
   },
   "file_extension": ".py",
   "mimetype": "text/x-python",
   "name": "python",
   "nbconvert_exporter": "python",
   "pygments_lexer": "ipython3",
   "version": "3.12.3"
  }
 },
 "nbformat": 4,
 "nbformat_minor": 4
}
