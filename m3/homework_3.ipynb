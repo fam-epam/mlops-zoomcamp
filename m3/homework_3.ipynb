{
 "cells": [
  {
   "cell_type": "markdown",
   "metadata": {},
   "source": [
    "Q2: How many lines are in the created metadata.yaml file?"
   ]
  },
  {
   "cell_type": "code",
   "execution_count": 61,
   "metadata": {
    "vscode": {
     "languageId": "plaintext"
    }
   },
   "outputs": [
    {
     "name": "stdout",
     "output_type": "stream",
     "text": [
      "metadata.yaml lines: 55\n"
     ]
    }
   ],
   "source": [
    "! echo -n \"metadata.yaml lines: \" & wc -l ./mlops/mlops/homework_03/metadata.yaml |awk '{print $1}'"
   ]
  },
  {
   "cell_type": "markdown",
   "metadata": {},
   "source": [
    "Q3: How many records did we load?"
   ]
  },
  {
   "cell_type": "code",
   "execution_count": 63,
   "metadata": {},
   "outputs": [
    {
     "name": "stdout",
     "output_type": "stream",
     "text": [
      "3403766\n"
     ]
    }
   ],
   "source": [
    "import requests\n",
    "from io import BytesIO\n",
    "from typing import List\n",
    "\n",
    "import pandas as pd\n",
    "\n",
    "def ingest_files(**kwargs) -> pd.DataFrame:\n",
    "    dfs: List[pd.DataFrame] = []\n",
    "\n",
    "    for year, months in [(2023, (3, 4))]:\n",
    "        for i in range(*months):\n",
    "            response = requests.get(\n",
    "                'https://d37ci6vzurychx.cloudfront.net/trip-data/yellow_tripdata_'\n",
    "                f'{year}-{i:02d}.parquet'\n",
    "            )\n",
    "\n",
    "            if response.status_code != 200:\n",
    "                raise Exception(response.text)\n",
    "\n",
    "            df = pd.read_parquet(BytesIO(response.content))\n",
    "            dfs.append(df)\n",
    "\n",
    "    \n",
    "    return pd.concat(dfs)\n",
    "\n",
    "df = ingest_files()\n",
    "print(df.shape[0])"
   ]
  },
  {
   "cell_type": "markdown",
   "metadata": {},
   "source": [
    "Q4: What's the size of the result?"
   ]
  },
  {
   "cell_type": "code",
   "execution_count": 64,
   "metadata": {},
   "outputs": [
    {
     "name": "stdout",
     "output_type": "stream",
     "text": [
      "3,316,216\n"
     ]
    }
   ],
   "source": [
    "def read_dataframe(filename):\n",
    "    df = pd.read_parquet(filename)\n",
    "\n",
    "    df.tpep_dropoff_datetime = pd.to_datetime(df.tpep_dropoff_datetime)\n",
    "    df.tpep_pickup_datetime = pd.to_datetime(df.tpep_pickup_datetime)\n",
    "\n",
    "    df['duration'] = df.tpep_dropoff_datetime - df.tpep_pickup_datetime\n",
    "    df.duration = df.duration.dt.total_seconds() / 60\n",
    "\n",
    "    df = df[(df.duration >= 1) & (df.duration <= 60)]\n",
    "\n",
    "    categorical = ['PULocationID', 'DOLocationID']\n",
    "    df[categorical] = df[categorical].astype(str)\n",
    "    \n",
    "    return df\n",
    "\n",
    "df = read_dataframe('https://d37ci6vzurychx.cloudfront.net/trip-data/yellow_tripdata_2023-03.parquet')\n",
    "print(f\"{df.shape[0]:,}\")"
   ]
  }
 ],
 "metadata": {
  "kernelspec": {
   "display_name": "Python 3 (ipykernel)",
   "language": "python",
   "name": "python3"
  },
  "language_info": {
   "codemirror_mode": {
    "name": "ipython",
    "version": 3
   },
   "file_extension": ".py",
   "mimetype": "text/x-python",
   "name": "python",
   "nbconvert_exporter": "python",
   "pygments_lexer": "ipython3",
   "version": "3.12.3"
  }
 },
 "nbformat": 4,
 "nbformat_minor": 4
}
