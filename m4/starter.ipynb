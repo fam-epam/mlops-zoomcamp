{
 "cells": [
  {
   "cell_type": "code",
   "execution_count": 1,
   "id": "2c51efaa",
   "metadata": {},
   "outputs": [
    {
     "name": "stdout",
     "output_type": "stream",
     "text": [
      "scikit-learn==1.5.0\n"
     ]
    }
   ],
   "source": [
    "!pip freeze | grep scikit-learn"
   ]
  },
  {
   "cell_type": "code",
   "execution_count": 2,
   "id": "4acf73a0-51b5-4663-9bb8-8eb947863e17",
   "metadata": {},
   "outputs": [
    {
     "name": "stdout",
     "output_type": "stream",
     "text": [
      "Python 3.12.3\n"
     ]
    }
   ],
   "source": [
    "!python -V"
   ]
  },
  {
   "cell_type": "code",
   "execution_count": 3,
   "id": "0ef880a0",
   "metadata": {
    "jupyter": {
     "source_hidden": true
    }
   },
   "outputs": [],
   "source": [
    "import pickle\n",
    "import pandas as pd"
   ]
  },
  {
   "cell_type": "code",
   "execution_count": 4,
   "id": "7836ccfd",
   "metadata": {
    "jupyter": {
     "source_hidden": true
    }
   },
   "outputs": [],
   "source": [
    "with open('model.bin', 'rb') as f_in:\n",
    "    dv, model = pickle.load(f_in)"
   ]
  },
  {
   "cell_type": "code",
   "execution_count": 5,
   "id": "41c08294",
   "metadata": {
    "jupyter": {
     "source_hidden": true
    }
   },
   "outputs": [],
   "source": [
    "categorical = ['PULocationID', 'DOLocationID']\n",
    "\n",
    "def read_data(filename):\n",
    "    df = pd.read_parquet(filename)\n",
    "    \n",
    "    df['duration'] = df.tpep_dropoff_datetime - df.tpep_pickup_datetime\n",
    "    df['duration'] = df.duration.dt.total_seconds() / 60\n",
    "\n",
    "    df = df[(df.duration >= 1) & (df.duration <= 60)].copy()\n",
    "\n",
    "    df[categorical] = df[categorical].fillna(-1).astype('int').astype('str')\n",
    "    \n",
    "    return df"
   ]
  },
  {
   "cell_type": "code",
   "execution_count": 6,
   "id": "4854399a",
   "metadata": {},
   "outputs": [],
   "source": [
    "df = read_data('https://d37ci6vzurychx.cloudfront.net/trip-data/yellow_tripdata_2023-03.parquet')"
   ]
  },
  {
   "cell_type": "code",
   "execution_count": 7,
   "id": "669fda0a",
   "metadata": {
    "jupyter": {
     "source_hidden": true
    }
   },
   "outputs": [],
   "source": [
    "dicts = df[categorical].to_dict(orient='records')\n",
    "X_val = dv.transform(dicts)\n",
    "y_pred = model.predict(X_val)"
   ]
  },
  {
   "cell_type": "markdown",
   "id": "b6beb6fe",
   "metadata": {},
   "source": [
    "**Q1. What's the standard deviation of the predicted duration for this dataset?**"
   ]
  },
  {
   "cell_type": "code",
   "execution_count": 8,
   "id": "bf532ae7-1897-428c-ba0c-875ccaf7d76c",
   "metadata": {
    "jupyter": {
     "source_hidden": true
    }
   },
   "outputs": [
    {
     "name": "stdout",
     "output_type": "stream",
     "text": [
      "6.247\n"
     ]
    }
   ],
   "source": [
<<<<<<< HEAD
    "print(f\"{y_pred.std():.3f}\")"
=======
<<<<<<< HEAD
    "print(f\"{y_pred.std():.3f}\")"
=======
    "import numpy as np\n",
    "\n",
    "std_pred_duration = np.std(y_pred)\n",
    "print(f\"{std_pred_duration:.3f}\")"
>>>>>>> main
>>>>>>> main
   ]
  },
  {
   "cell_type": "markdown",
   "id": "bae08435",
   "metadata": {},
   "source": [
    "**Q2. What's the size of the output file?**"
   ]
  },
  {
   "cell_type": "code",
   "execution_count": 9,
   "id": "111f9dce",
   "metadata": {
    "jupyter": {
     "source_hidden": true
    }
   },
   "outputs": [],
   "source": [
    "year = 2023\n",
    "month = 3\n",
    "\n",
    "df['ride_id'] = f'{year:04d}/{month:02d}_' + df.index.astype('str')\n",
    "df['pred_duration'] = y_pred"
   ]
  },
  {
   "cell_type": "code",
   "execution_count": 10,
   "id": "5ffe963a",
   "metadata": {
    "jupyter": {
     "source_hidden": true
    }
   },
   "outputs": [],
   "source": [
    "df_result = df[[\"ride_id\", \"pred_duration\"]]"
   ]
  },
  {
   "cell_type": "code",
   "execution_count": 11,
   "id": "7927c697",
   "metadata": {
    "jupyter": {
     "source_hidden": true
    }
   },
   "outputs": [],
   "source": [
    "output_file = \"ride_predictions.pkt\"\n",
    "\n",
    "df_result.to_parquet(\n",
    "    output_file,\n",
    "    engine='pyarrow',\n",
    "    compression=None,\n",
    "    index=False\n",
    ")"
   ]
  },
  {
   "cell_type": "code",
   "execution_count": 12,
   "id": "2230bd4e",
   "metadata": {},
   "outputs": [
    {
     "name": "stdout",
     "output_type": "stream",
     "text": [
      "66M\n"
     ]
    }
   ],
   "source": [
    "! ls -lh ride_predictions.pkt | awk '{print $5}'"
   ]
  },
  {
   "cell_type": "markdown",
   "id": "69a9c6e9",
   "metadata": {},
   "source": [
    "**Q3. Which command you need to execute for that? (turn the notebook into a script)**\n",
    "\n",
    "`jupyter nbconvert --to script starter.ipynb`"
   ]
  },
  {
   "cell_type": "markdown",
   "id": "de6ec4f8",
   "metadata": {},
   "source": [
    "**Q4: What's the first hash for the Scikit-Learn dependency?**"
   ]
  },
  {
   "cell_type": "code",
   "execution_count": 13,
   "id": "f6b79a97",
   "metadata": {},
   "outputs": [
    {
     "name": "stdout",
     "output_type": "stream",
     "text": [
      "\u001b[0;32m\"sha256:057b991ac64b3e75c9c04b5f9395eaf19a6179244c089afdebaad98264bff37c\"\u001b[0m\n"
     ]
    }
   ],
   "source": [
    "!cat Pipfile.lock |jq '.default.\"scikit-learn\".hashes[0]'"
   ]
  },
  {
   "cell_type": "markdown",
   "id": "6cf9c2e6",
   "metadata": {},
   "source": [
    "**Q5: What's the mean predicted duration for April 2023?**"
   ]
  },
  {
   "cell_type": "code",
   "execution_count": 14,
   "id": "09c058b9",
   "metadata": {},
   "outputs": [
    {
     "name": "stdout",
     "output_type": "stream",
     "text": [
      "Main predicted duration (2023-04): 14.29\n"
     ]
    }
   ],
   "source": [
    "! python starter.py 2023 4"
   ]
  },
  {
   "cell_type": "markdown",
   "id": "071b402b",
   "metadata": {},
   "source": [
    "**Q6. What's the mean predicted duration for May 2023 (via Docker)?**"
   ]
  },
  {
   "cell_type": "code",
   "execution_count": 15,
   "id": "b27dcac7",
   "metadata": {},
   "outputs": [
    {
     "name": "stdout",
     "output_type": "stream",
     "text": [
      "Main predicted duration (2023-05): 0.19\n"
     ]
    }
   ],
   "source": [
    "! docker run --rm -ti m4 2023 5"
   ]
  }
 ],
 "metadata": {
  "kernelspec": {
   "display_name": "Python 3 (ipykernel)",
   "language": "python",
   "name": "python3"
  },
  "language_info": {
   "codemirror_mode": {
    "name": "ipython",
    "version": 3
   },
   "file_extension": ".py",
   "mimetype": "text/x-python",
   "name": "python",
   "nbconvert_exporter": "python",
   "pygments_lexer": "ipython3",
   "version": "3.12.3"
  }
 },
 "nbformat": 4,
 "nbformat_minor": 5
}
